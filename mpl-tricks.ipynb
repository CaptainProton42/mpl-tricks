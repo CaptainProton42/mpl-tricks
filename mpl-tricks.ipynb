{
 "cells": [
  {
   "cell_type": "markdown",
   "metadata": {},
   "source": [
    "## Workng with `plt.axis('equal')\n",
    "\n",
    "When using `plt.axis('equal')` use `plt.gca().set(xlim=(x1, x2), ylim=(y1, y2))` as per the [matplotlib example](https://matplotlib.org/3.1.1/gallery/subplots_axes_and_figures/axis_equal_demo.html). If you want to limit the y range, set `x1` and `x2` to `0` and vice versa. `plt.xlim` and alike won't work. Another way is to use `plt.axis('square')` but this doesn't keep the aspect of the plot frame."
   ]
  },
  {
   "cell_type": "code",
   "execution_count": null,
   "metadata": {},
   "outputs": [],
   "source": []
  }
 ],
 "metadata": {
  "kernelspec": {
   "display_name": "Python 3",
   "language": "python",
   "name": "python3"
  },
  "language_info": {
   "codemirror_mode": {
    "name": "ipython",
    "version": 3
   },
   "file_extension": ".py",
   "mimetype": "text/x-python",
   "name": "python",
   "nbconvert_exporter": "python",
   "pygments_lexer": "ipython3",
   "version": "3.7.3"
  }
 },
 "nbformat": 4,
 "nbformat_minor": 2
}
