{
 "cells": [
  {
   "cell_type": "markdown",
   "metadata": {},
   "source": [
    "## Using LaTeX\n",
    "Include this snippet to import matplotlib in order to use LaTeX for output. Needs a TeX distribution (e.g. MikTeX) to be installed. Import additional packages with `text.latex.preamble`."
   ]
  },
  {
   "cell_type": "code",
   "execution_count": 1,
   "metadata": {},
   "outputs": [],
   "source": [
    "import matplotlib.pyplot as plt\n",
    "import matplotlib as mpl\n",
    "\n",
    "pgf_with_latex = {\n",
    "    \"pgf.texsystem\": \"pdflatex\", \n",
    "    \"text.usetex\": True,\n",
    "    \"font.family\": \"serif\",\n",
    "    \"text.latex.preamble\": [\n",
    "        r\"\\usepackage[ngerman]{babel}\",\n",
    "        r\"\\usepackage[utf8]{inputenc}\",\n",
    "        r\"\\usepackage[T1]{fontenc}\",\n",
    "        r\"\\usepackage{amsmath}\",\n",
    "        r\"\\usepackage[locale=DE,separate-uncertainty]{siunitx}\"\n",
    "        ]\n",
    "    }\n",
    "\n",
    "mpl.rcParams.update(pgf_with_latex)"
   ]
  },
  {
   "cell_type": "markdown",
   "metadata": {},
   "source": [
    "## Workng with `plt.axis('equal')`\n",
    "\n",
    "When using `plt.axis('equal')` use `plt.gca().set(xlim=(x1, x2), ylim=(y1, y2))` as per the [matplotlib example](https://matplotlib.org/3.1.1/gallery/subplots_axes_and_figures/axis_equal_demo.html). If you want to limit the y range, set `x1` and `x2` to `0` and vice versa. `plt.xlim` and alike won't work. Another way is to use `plt.axis('square')` but this doesn't keep the aspect of the plot frame."
   ]
  }
 ],
 "metadata": {
  "kernelspec": {
   "display_name": "Python 3",
   "language": "python",
   "name": "python3"
  },
  "language_info": {
   "codemirror_mode": {
    "name": "ipython",
    "version": 3
   },
   "file_extension": ".py",
   "mimetype": "text/x-python",
   "name": "python",
   "nbconvert_exporter": "python",
   "pygments_lexer": "ipython3",
   "version": "3.7.3"
  }
 },
 "nbformat": 4,
 "nbformat_minor": 2
}
